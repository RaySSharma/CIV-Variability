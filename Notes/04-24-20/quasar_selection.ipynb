{
 "cells": [
  {
   "cell_type": "code",
   "execution_count": 5,
   "metadata": {},
   "outputs": [],
   "source": [
    "import astropy.io.fits as fits\n",
    "import numpy as np"
   ]
  },
  {
   "cell_type": "code",
   "execution_count": 32,
   "metadata": {},
   "outputs": [],
   "source": [
    "catalog = fits.open('/home/ray/Downloads/DR14Q_v4_4.fits')\n",
    "platelist = fits.open('/home/ray/Downloads/plates-dr16.fits')\n",
    "\n",
    "z = catalog[1].data['Z']\n",
    "plate = catalog[1].data['PLATE']\n",
    "bal = catalog[1].data['BI_CIV']\n",
    "ra = catalog[1].data['RA']\n",
    "dec = catalog[1].data['DEC']\n",
    "\n",
    "sn_plate = platelist[1].data['PLATESN2']\n",
    "quality_plate = platelist[1].data['PLATEQUALITY']\n",
    "plate_plate = platelist[1].data['PLATE']\n",
    "ra_plate = platelist[1].data['RACEN']\n",
    "dec_plate = platelist[1].data['DECCEN']"
   ]
  },
  {
   "cell_type": "code",
   "execution_count": 58,
   "metadata": {},
   "outputs": [],
   "source": [
    "sn = np.asarray([sn_plate[plate_plate == p][0] for p in plate])\n",
    "quality = np.asarray([quality_plate[plate_plate == p][0] for p in plate])\n",
    "ra_boresight = np.asarray([ra_plate[plate_plate == p][0] for p in plate])\n",
    "dec_boresight = np.asarray([dec_plate[plate_plate == p][0] for p in plate])"
   ]
  },
  {
   "cell_type": "code",
   "execution_count": 98,
   "metadata": {},
   "outputs": [],
   "source": [
    "distance_boresight = np.sqrt(abs(ra - ra_boresight)**2 + abs(dec - dec_boresight)**2)"
   ]
  },
  {
   "cell_type": "code",
   "execution_count": 99,
   "metadata": {},
   "outputs": [],
   "source": [
    "ix = (distance_boresight < 1) & (z > 1.7) & (z < 2.6) & (quality == 'good') & (sn > 2) & (bal == 0)"
   ]
  },
  {
   "cell_type": "code",
   "execution_count": 107,
   "metadata": {},
   "outputs": [
    {
     "name": "stdout",
     "output_type": "stream",
     "text": [
      "Total quasars matched: 91969\n"
     ]
    }
   ],
   "source": [
    "print('Total quasars matched:', ix.sum())"
   ]
  }
 ],
 "metadata": {
  "kernelspec": {
   "display_name": "Python [conda env:astroconda]",
   "language": "python",
   "name": "conda-env-astroconda-py"
  },
  "language_info": {
   "codemirror_mode": {
    "name": "ipython",
    "version": 3
   },
   "file_extension": ".py",
   "mimetype": "text/x-python",
   "name": "python",
   "nbconvert_exporter": "python",
   "pygments_lexer": "ipython3",
   "version": "3.6.9"
  }
 },
 "nbformat": 4,
 "nbformat_minor": 4
}
