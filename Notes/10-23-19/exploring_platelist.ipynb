{
 "cells": [
  {
   "cell_type": "markdown",
   "metadata": {},
   "source": [
    "# Exploring the SDSS Platelist file"
   ]
  },
  {
   "cell_type": "markdown",
   "metadata": {},
   "source": [
    "## Platelist file"
   ]
  },
  {
   "cell_type": "code",
   "execution_count": 1,
   "metadata": {
    "ExecuteTime": {
     "end_time": "2019-10-23T13:59:27.810768Z",
     "start_time": "2019-10-23T13:59:24.450209Z"
    }
   },
   "outputs": [],
   "source": [
    "import astropy.io.fits as fits"
   ]
  },
  {
   "cell_type": "markdown",
   "metadata": {},
   "source": [
    "Open the platelist"
   ]
  },
  {
   "cell_type": "code",
   "execution_count": 2,
   "metadata": {
    "ExecuteTime": {
     "end_time": "2019-10-23T13:59:27.819572Z",
     "start_time": "2019-10-23T13:59:27.812741Z"
    }
   },
   "outputs": [],
   "source": [
    "platelist = fits.open('/home/ray/Downloads/platelist.fits')"
   ]
  },
  {
   "cell_type": "markdown",
   "metadata": {},
   "source": [
    "Inside are two HDUs, the second HDU is where all the interesting data is"
   ]
  },
  {
   "cell_type": "code",
   "execution_count": 3,
   "metadata": {
    "ExecuteTime": {
     "end_time": "2019-10-23T13:59:29.636704Z",
     "start_time": "2019-10-23T13:59:27.822741Z"
    }
   },
   "outputs": [
    {
     "data": {
      "text/plain": [
       "[<astropy.io.fits.hdu.image.PrimaryHDU object at 0x7f04e1d11b00>, <astropy.io.fits.hdu.table.BinTableHDU object at 0x7f04e1d39160>]"
      ]
     },
     "execution_count": 3,
     "metadata": {},
     "output_type": "execute_result"
    }
   ],
   "source": [
    "platelist"
   ]
  },
  {
   "cell_type": "markdown",
   "metadata": {},
   "source": [
    "Within the platelist data we can check what names are available, and compare them with what we see in the platelist data model"
   ]
  },
  {
   "cell_type": "code",
   "execution_count": 4,
   "metadata": {
    "ExecuteTime": {
     "end_time": "2019-10-23T13:59:29.733456Z",
     "start_time": "2019-10-23T13:59:29.640098Z"
    }
   },
   "outputs": [
    {
     "data": {
      "text/plain": [
       "['PLATE',\n",
       " 'TILEID',\n",
       " 'MJD',\n",
       " 'RUN2D',\n",
       " 'RUN1D',\n",
       " 'RACEN',\n",
       " 'DECCEN',\n",
       " 'EPOCH',\n",
       " 'CARTID',\n",
       " 'TAI',\n",
       " 'TAI_BEG',\n",
       " 'TAI_END',\n",
       " 'AIRMASS',\n",
       " 'EXPTIME',\n",
       " 'MAPNAME',\n",
       " 'SURVEY',\n",
       " 'PROGRAMNAME',\n",
       " 'CHUNK',\n",
       " 'PLATEQUALITY',\n",
       " 'PLATESN2',\n",
       " 'DEREDSN2',\n",
       " 'QSURVEY',\n",
       " 'MJDLIST',\n",
       " 'NEXP',\n",
       " 'NEXP_B1',\n",
       " 'NEXP_B2',\n",
       " 'NEXP_R1',\n",
       " 'NEXP_R2',\n",
       " 'EXPT_B1',\n",
       " 'EXPT_B2',\n",
       " 'EXPT_R1',\n",
       " 'EXPT_R2',\n",
       " 'SN2_G1',\n",
       " 'SN2_R1',\n",
       " 'SN2_I1',\n",
       " 'SN2_G2',\n",
       " 'SN2_R2',\n",
       " 'SN2_I2',\n",
       " 'DERED_SN2_G1',\n",
       " 'DERED_SN2_R1',\n",
       " 'DERED_SN2_I1',\n",
       " 'DERED_SN2_G2',\n",
       " 'DERED_SN2_R2',\n",
       " 'DERED_SN2_I2',\n",
       " 'GOFFSTD',\n",
       " 'GRMSSTD',\n",
       " 'ROFFSTD',\n",
       " 'RRMSSTD',\n",
       " 'IOFFSTD',\n",
       " 'IRMSSTD',\n",
       " 'GROFFSTD',\n",
       " 'GRRMSSTD',\n",
       " 'RIOFFSTD',\n",
       " 'RIRMSSTD',\n",
       " 'GOFFGAL',\n",
       " 'GRMSGAL',\n",
       " 'ROFFGAL',\n",
       " 'RRMSGAL',\n",
       " 'IOFFGAL',\n",
       " 'IRMSGAL',\n",
       " 'GROFFGAL',\n",
       " 'GRRMSGAL',\n",
       " 'RIOFFGAL',\n",
       " 'RIRMSGAL',\n",
       " 'NGUIDE',\n",
       " 'SEEING20',\n",
       " 'SEEING50',\n",
       " 'SEEING80',\n",
       " 'RMSOFF20',\n",
       " 'RMSOFF50',\n",
       " 'RMSOFF80',\n",
       " 'AIRTEMP',\n",
       " 'XSIGMA',\n",
       " 'XSIGMIN',\n",
       " 'XSIGMAX',\n",
       " 'WSIGMA',\n",
       " 'WSIGMIN',\n",
       " 'WSIGMAX',\n",
       " 'XCHI2',\n",
       " 'XCHI2MIN',\n",
       " 'XCHI2MAX',\n",
       " 'SKYCHI2',\n",
       " 'SCHI2MIN',\n",
       " 'SCHI2MAX',\n",
       " 'FBADPIX',\n",
       " 'FBADPIX1',\n",
       " 'FBADPIX2',\n",
       " 'N_TOTAL',\n",
       " 'N_GALAXY',\n",
       " 'N_QSO',\n",
       " 'N_STAR',\n",
       " 'N_UNKNOWN',\n",
       " 'N_SKY',\n",
       " 'N_TARGET_MAIN',\n",
       " 'N_TARGET_LRG1',\n",
       " 'N_TARGET_LRG2',\n",
       " 'N_TARGET_ELG',\n",
       " 'N_TARGET_QSO',\n",
       " 'SUCCESS_MAIN',\n",
       " 'SUCCESS_LRG1',\n",
       " 'SUCCESS_LRG2',\n",
       " 'SUCCESS_ELG',\n",
       " 'SUCCESS_QSO',\n",
       " 'STATUS2D',\n",
       " 'STATUSCOMBINE',\n",
       " 'STATUS1D',\n",
       " 'PUBLIC',\n",
       " 'QUALCOMMENTS']"
      ]
     },
     "execution_count": 4,
     "metadata": {},
     "output_type": "execute_result"
    }
   ],
   "source": [
    "platelist[1].data.names"
   ]
  },
  {
   "cell_type": "markdown",
   "metadata": {},
   "source": [
    "If we print out what the \"PLATE\" array looks like:"
   ]
  },
  {
   "cell_type": "code",
   "execution_count": 5,
   "metadata": {
    "ExecuteTime": {
     "end_time": "2019-10-23T13:59:29.762626Z",
     "start_time": "2019-10-23T13:59:29.736375Z"
    }
   },
   "outputs": [
    {
     "data": {
      "text/plain": [
       "array([10000, 10000,  3520, ...,  8957,  8958,  9003], dtype=int32)"
      ]
     },
     "execution_count": 5,
     "metadata": {},
     "output_type": "execute_result"
    }
   ],
   "source": [
    "platelist[1].data['PLATE']"
   ]
  },
  {
   "cell_type": "markdown",
   "metadata": {},
   "source": [
    "And the length of the array is 3159, meaning there are 3159 plates in the file."
   ]
  },
  {
   "cell_type": "code",
   "execution_count": 6,
   "metadata": {
    "ExecuteTime": {
     "end_time": "2019-10-23T13:59:29.911204Z",
     "start_time": "2019-10-23T13:59:29.766094Z"
    },
    "scrolled": true
   },
   "outputs": [
    {
     "data": {
      "text/plain": [
       "(3159,)"
      ]
     },
     "execution_count": 6,
     "metadata": {},
     "output_type": "execute_result"
    }
   ],
   "source": [
    "platelist[1].data['PLATE'].shape"
   ]
  },
  {
   "cell_type": "markdown",
   "metadata": {},
   "source": [
    "If we now compare this to the quasar catalog:"
   ]
  },
  {
   "cell_type": "code",
   "execution_count": 13,
   "metadata": {
    "ExecuteTime": {
     "end_time": "2019-10-23T14:00:35.361534Z",
     "start_time": "2019-10-23T14:00:35.153063Z"
    }
   },
   "outputs": [],
   "source": [
    "cat = fits.open('/home/ray/Downloads/DR14Q_v4_4.fits', memmap=True)\n",
    "\n",
    "headers = hdu1.header\n",
    "data = hdu1.data"
   ]
  },
  {
   "cell_type": "code",
   "execution_count": 14,
   "metadata": {
    "ExecuteTime": {
     "end_time": "2019-10-23T14:00:57.068737Z",
     "start_time": "2019-10-23T14:00:57.064003Z"
    }
   },
   "outputs": [
    {
     "data": {
      "text/plain": [
       "array([7596, 8740, 6177, ..., 8741, 7595, 7145], dtype=int16)"
      ]
     },
     "execution_count": 14,
     "metadata": {},
     "output_type": "execute_result"
    }
   ],
   "source": [
    "data['PLATE']"
   ]
  },
  {
   "cell_type": "markdown",
   "metadata": {},
   "source": [
    "So each quasar has an entry for what plate it belongs to, and the number of entries is the number of quasars in the catalog."
   ]
  },
  {
   "cell_type": "markdown",
   "metadata": {},
   "source": [
    "## Plate quality"
   ]
  },
  {
   "cell_type": "markdown",
   "metadata": {},
   "source": [
    "The list of qualities from the platelist looks like:"
   ]
  },
  {
   "cell_type": "code",
   "execution_count": 20,
   "metadata": {
    "ExecuteTime": {
     "end_time": "2019-10-23T14:14:27.903868Z",
     "start_time": "2019-10-23T14:14:27.806899Z"
    }
   },
   "outputs": [
    {
     "data": {
      "text/plain": [
       "chararray(['bad', 'good', 'bad', ..., 'good', 'good', 'good'], dtype='<U4')"
      ]
     },
     "execution_count": 20,
     "metadata": {},
     "output_type": "execute_result"
    }
   ],
   "source": [
    "platelist[1].data['PLATEQUALITY']"
   ]
  },
  {
   "cell_type": "markdown",
   "metadata": {},
   "source": [
    "So if we wanted to generate a list of plate qualities for each quasar, we can do (for example for quasar 1)"
   ]
  },
  {
   "cell_type": "code",
   "execution_count": 25,
   "metadata": {
    "ExecuteTime": {
     "end_time": "2019-10-23T14:20:45.893521Z",
     "start_time": "2019-10-23T14:20:45.856480Z"
    }
   },
   "outputs": [
    {
     "name": "stdout",
     "output_type": "stream",
     "text": [
      "8740\n"
     ]
    }
   ],
   "source": [
    "plate_for_quasar1 = data[1]['PLATE']\n",
    "print(plate_for_quasar1)"
   ]
  },
  {
   "cell_type": "markdown",
   "metadata": {},
   "source": [
    "We have the plate for quasar 1..."
   ]
  },
  {
   "cell_type": "code",
   "execution_count": 28,
   "metadata": {
    "ExecuteTime": {
     "end_time": "2019-10-23T14:21:23.929684Z",
     "start_time": "2019-10-23T14:21:23.903749Z"
    }
   },
   "outputs": [],
   "source": [
    "ix = platelist[1].data['PLATE'] == plate_for_quasar1"
   ]
  },
  {
   "cell_type": "markdown",
   "metadata": {},
   "source": [
    "This will pull out the row of our platelist file corresponding to our quasar plate number. So to get our platequality..."
   ]
  },
  {
   "cell_type": "code",
   "execution_count": 29,
   "metadata": {
    "ExecuteTime": {
     "end_time": "2019-10-23T14:22:13.191125Z",
     "start_time": "2019-10-23T14:22:13.151847Z"
    }
   },
   "outputs": [
    {
     "data": {
      "text/plain": [
       "chararray(['good'], dtype='<U4')"
      ]
     },
     "execution_count": 29,
     "metadata": {},
     "output_type": "execute_result"
    }
   ],
   "source": [
    "platelist[1].data['PLATEQUALITY'][ix]"
   ]
  }
 ],
 "metadata": {
  "hide_input": false,
  "kernelspec": {
   "display_name": "Python [conda env:paper1]",
   "language": "python",
   "name": "conda-env-paper1-py"
  },
  "language_info": {
   "codemirror_mode": {
    "name": "ipython",
    "version": 3
   },
   "file_extension": ".py",
   "mimetype": "text/x-python",
   "name": "python",
   "nbconvert_exporter": "python",
   "pygments_lexer": "ipython3",
   "version": "3.6.5"
  },
  "toc": {
   "base_numbering": 1,
   "nav_menu": {},
   "number_sections": true,
   "sideBar": true,
   "skip_h1_title": false,
   "title_cell": "Table of Contents",
   "title_sidebar": "Contents",
   "toc_cell": false,
   "toc_position": {},
   "toc_section_display": true,
   "toc_window_display": false
  },
  "varInspector": {
   "cols": {
    "lenName": 16,
    "lenType": 16,
    "lenVar": 40
   },
   "kernels_config": {
    "python": {
     "delete_cmd_postfix": "",
     "delete_cmd_prefix": "del ",
     "library": "var_list.py",
     "varRefreshCmd": "print(var_dic_list())"
    },
    "r": {
     "delete_cmd_postfix": ") ",
     "delete_cmd_prefix": "rm(",
     "library": "var_list.r",
     "varRefreshCmd": "cat(var_dic_list()) "
    }
   },
   "types_to_exclude": [
    "module",
    "function",
    "builtin_function_or_method",
    "instance",
    "_Feature"
   ],
   "window_display": false
  }
 },
 "nbformat": 4,
 "nbformat_minor": 2
}
