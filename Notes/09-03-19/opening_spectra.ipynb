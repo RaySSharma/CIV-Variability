{
 "cells": [
  {
   "cell_type": "markdown",
   "metadata": {},
   "source": [
    "# This is a brief tutorial on open fits spectra using Jupyter Notebooks"
   ]
  },
  {
   "cell_type": "markdown",
   "metadata": {},
   "source": [
    "## These are Python packages that we will be using that need to be imported"
   ]
  },
  {
   "cell_type": "code",
   "execution_count": 85,
   "metadata": {
    "ExecuteTime": {
     "end_time": "2019-09-03T15:24:13.337311Z",
     "start_time": "2019-09-03T15:24:13.319673Z"
    },
    "pycharm": {
     "is_executing": false
    }
   },
   "outputs": [],
   "source": [
    "import numpy\n",
    "from astropy.io import fits\n",
    "import matplotlib.pyplot as plt"
   ]
  },
  {
   "cell_type": "markdown",
   "metadata": {},
   "source": [
    "## We can open up a spectra file using the astropy.io.fits module"
   ]
  },
  {
   "cell_type": "code",
   "execution_count": 86,
   "metadata": {
    "ExecuteTime": {
     "end_time": "2019-09-03T15:24:13.434549Z",
     "start_time": "2019-09-03T15:24:13.368930Z"
    },
    "pycharm": {
     "is_executing": false,
     "name": "#%%\n"
    }
   },
   "outputs": [],
   "source": [
    "spec = fits.open('/path/to/spectra/spec-3814-55535-0072.fits')"
   ]
  },
  {
   "cell_type": "markdown",
   "metadata": {},
   "source": [
    "## There are many objects inside of the fits file, each containing a set of data. The SDSS data model for spectra will tell us what kind of data each object contains.\n",
    "https://data.sdss.org/datamodel/files/BOSS_SPECTRO_REDUX/RUN2D/spectra/PLATE4/spec.html"
   ]
  },
  {
   "cell_type": "code",
   "execution_count": 87,
   "metadata": {
    "ExecuteTime": {
     "end_time": "2019-09-03T15:24:13.530303Z",
     "start_time": "2019-09-03T15:24:13.438165Z"
    },
    "pycharm": {
     "is_executing": false,
     "name": "#%%\n"
    }
   },
   "outputs": [
    {
     "name": "stdout",
     "output_type": "stream",
     "text": [
      "[<astropy.io.fits.hdu.image.PrimaryHDU object at 0x7fd4cee7cd68>, <astropy.io.fits.hdu.table.BinTableHDU object at 0x7fd4cf0a1eb8>, <astropy.io.fits.hdu.table.BinTableHDU object at 0x7fd4cf3ea828>, <astropy.io.fits.hdu.table.BinTableHDU object at 0x7fd4cf452748>]\n"
     ]
    }
   ],
   "source": [
    "print(spec)"
   ]
  },
  {
   "cell_type": "markdown",
   "metadata": {},
   "source": [
    "## Each object contains a \"header\" and \"data\". The header gives information about what is inside the data."
   ]
  },
  {
   "cell_type": "markdown",
   "metadata": {},
   "source": [
    "## We can look at what the header information for the first object looks like. We can see information about the SDSS plate this spectra was taken from, including the day the spectra was taken (MJD), and the ID number of the plate (PLATEID)."
   ]
  },
  {
   "cell_type": "code",
   "execution_count": 88,
   "metadata": {
    "ExecuteTime": {
     "end_time": "2019-09-03T15:24:13.612289Z",
     "start_time": "2019-09-03T15:24:13.536153Z"
    },
    "pycharm": {
     "name": "#%%\n"
    }
   },
   "outputs": [
    {
     "data": {
      "text/plain": [
       "SIMPLE  =                    T / conforms to FITS standard                      \n",
       "BITPIX  =                    8 / array data type                                \n",
       "NAXIS   =                    0 / number of array dimensions                     \n",
       "EXTEND  =                    T                                                  \n",
       "TELESCOP= 'SDSS 2.5-M'         / Sloan Digital Sky Survey                       \n",
       "FLAVOR  = 'science '           / exposure type, SDSS spectro style              \n",
       "BOSSVER = 'r       '           / ICC version                                    \n",
       "MJD     =                55535 / APO fMJD day at start of exposure              \n",
       "MJDLIST = '55535   '           /                                                \n",
       "NAME    = '3814-55535-01'      / The name of the currently loaded plate         \n",
       "PLATEID =                 3814 / The currently loaded plate                     \n",
       "TILEID  =                10179 /Cartridge used in this plugging                 \n",
       "CARTID  =                   17 /Cartridge used in this plugging                 \n",
       "MAPID   =                    1 / The mapping version of the loaded plate        \n",
       "RA      =            133.92813 / RA of telescope boresight (deg)                \n",
       "DEC     =             3.799544 / Dec of telescope boresight (deg)               \n",
       "EQUINOX =              2000.00 /                                                \n",
       "RADECSYS= 'FK5     '           /                                                \n",
       "RADEG   =             133.9306 / RA of telescope pointing(deg)                  \n",
       "DECDEG  =               3.7961 / Dec of telescope pointing (deg)                \n",
       "BOREOFFX=                  0.0 / TCC Boresight offset, deg                      \n",
       "BOREOFFY=                  0.0 / TCC Boresight offset, deg                      \n",
       "GUIDOFFY=                  0.0 / TCC GuideOff, deg                              \n",
       "PRESSURE=              21.5683 / pressure                                       \n",
       "WINDD   =              263.375 / windd                                          \n",
       "WINDS   =              7.27500 / winds                                          \n",
       "GUSTD   =                264.7 / gustd                                          \n",
       "GUSTS   =              10.5250 / gusts                                          \n",
       "TEMP    = 'NaN     '           / failed to fetch temp                           \n",
       "DPTEMP  = 'NaN     '           / failed to fetch dpTemp                         \n",
       "HUMIDITY=              15.8750 / humidity                                       \n",
       "DUSTA   =              13929.5 / dusta                                          \n",
       "DUSTB   =              464.000 / dustb                                          \n",
       "DUSTC   =              13968.2 / dustc                                          \n",
       "DUSTD   =              327.250 / dustd                                          \n",
       "SLITID2 =                   17 / Normalized slithead ID. sp1&2 should match.    \n",
       "BESTEXP =               123356 /                                                \n",
       "NEXP_B1 =                    4 / b1 camera number of exposures                  \n",
       "NEXP_R1 =                    4 / r1 camera number of exposures                  \n",
       "EXPT_B1 =              3603.36 / b1 camera exposure time (seconds)              \n",
       "EXPT_R1 =              3603.36 / r1 camera exposure time (seconds)              \n",
       "EXPTIME =              3603.36 / Minimum of exposure times for all cameras      \n",
       "SPCOADD = 'Sat May 28 04:27:09 2016' / SPCOADD finished                         \n",
       "SHOPETIM=                 0.72 / open shutter transit time, s                   \n",
       "SHCLOTIM=                 0.55 / close shutter transit time, s                  \n",
       "VERSIDL = '7.1.1   '           / Version of IDL                                 \n",
       "VERSUTIL= 'v5_5_17 '           / Version of idlutils                            \n",
       "VERSREAD= 'v5_10_0 '           / Version of idlspec2d for pre-processing raw dat\n",
       "VERS2D  = 'v5_10_0 '           / Version of idlspec2d for 2D reduction          \n",
       "VERSCOMB= 'v5_10_0 '           / Version of idlspec2d for combining multiple spe\n",
       "VERSLOG = 'trunk 23370'        / Version of SPECLOG product                     \n",
       "VERSFLAT= 'v1_25   '           / Version of SPECFLAT product                    \n",
       "RDNOISE0=              2.02591 /CCD read noise amp 0 [electrons]                \n",
       "BADPIXEL= 'badpixels-55415-b1.fits.gz' /                                        \n",
       "RUN2D   = 'v5_10_0 '           / Spectro-2D reduction name                      \n",
       "REDDEN01=             0.232900 / Median extinction in u-band                    \n",
       "REDDEN02=             0.171400 / Median extinction in g-band                    \n",
       "REDDEN03=             0.124300 / Median extinction in r-band                    \n",
       "REDDEN04=            0.0942000 / Median extinction in i-band                    \n",
       "REDDEN05=            0.0668000 / Median extinction in z-band                    \n",
       "PLUGFILE= 'plPlugMapM-3814-55535-01.par' /                                      \n",
       "HELIO_RV=       -26.0058131065 / Heliocentric correction (added to velocities)  \n",
       "VACUUM  =                    T / Wavelengths are in vacuum                      \n",
       "SFLATTEN=                    T / Superflat has been applied                     \n",
       "PSFSKY  =                    3 / Order of PSF skysubtraction                    \n",
       "SKYCHI2 =        1.01667660099 / Mean chi^2 of sky-subtraction                  \n",
       "SCHI2MIN=       0.989802364957 /                                                \n",
       "SCHI2MAX=        1.06248960533 /                                                \n",
       "PREJECT =             0.200000 / Profile area rejection threshold               \n",
       "SPEC1_G =              11.3214 / (S/N)^2 for spec  1 at mag 21.20               \n",
       "SN2EXT1G=              11.3214 / Extinction corrected (S/N)^2                   \n",
       "SPEC1_R =              26.8414 / (S/N)^2 for spec  1 at mag 20.20               \n",
       "SN2EXT1R=              26.8414 / Extinction corrected (S/N)^2                   \n",
       "SPEC1_I =              20.6000 / (S/N)^2 for spec  1 at mag 20.20               \n",
       "SN2EXT1I=              20.6000 / Extinction corrected (S/N)^2                   \n",
       "SPEC2_G =              11.4002 / (S/N)^2 for spec  2 at mag 21.20               \n",
       "SN2EXT2G=              11.4002 / Extinction corrected (S/N)^2                   \n",
       "SPEC2_R =              33.8313 / (S/N)^2 for spec  2 at mag 20.20               \n",
       "SN2EXT2R=              33.8313 / Extinction corrected (S/N)^2                   \n",
       "SPEC2_I =              26.4100 / (S/N)^2 for spec  2 at mag 20.20               \n",
       "SN2EXT2I=              26.4100 / Extinction corrected (S/N)^2                   \n",
       "NSTD    =                   20 / Number of (good) std stars                     \n",
       "GOFFSTD =          -0.00840092 / Spectrophoto offset for std stars in G-band    \n",
       "GRMSSTD =            0.0949716 / Spectrophoto RMS for std stars in G-band       \n",
       "ROFFSTD =            0.0166836 / Spectrophoto offset for std stars in R-band    \n",
       "RRMSSTD =             0.121278 / Spectrophoto RMS for std stars in R-band       \n",
       "IOFFSTD =            0.0254450 / Spectrophoto offset for std stars in I-band    \n",
       "IRMSSTD =             0.162960 / Spectrophoto RMS for std stars in I-band       \n",
       "GROFFSTD=          -0.00322819 / Spectrophoto offset for std stars in (GR)      \n",
       "GRRMSSTD=            0.0961270 / Spectrophoto RMS for std stars in (GR)         \n",
       "RIOFFSTD=           -0.0100288 / Spectrophoto offset for std stars in (RI)      \n",
       "RIRMSSTD=            0.0574499 / Spectrophoto RMS for std stars in (RI)         \n",
       "LOWREJ  =                    4 / Extraction: low rejection                      \n",
       "HIGHREJ =                    4 / Extraction: high rejection                     \n",
       "SCATPOLY=                    0 / Extraction: Order of scattered light polynomial\n",
       "PROFTYPE=                    1 / Extraction profile: 1=Gaussian                 \n",
       "NFITPOLY=                    1 / Extraction: Number of parameters in each profil\n",
       "XCHI2   =              0.00000 / Extraction: Mean chi^2                         \n",
       "NWORDER =                    2 / Linear-log10 coefficients                      \n",
       "WFITTYPE= 'LOG-LINEAR'         / Linear-log10 dispersion                        \n",
       "COEFF0  =               3.5514 / Central wavelength (log10) of first pixel      \n",
       "COEFF1  =    0.000100000000000 / Log10 dispersion per pixel                     \n",
       "FBADPIX =            0.0249491 / Fraction of bad pixels                         \n",
       "FBADPIX1=            0.0217972 / Fraction of bad pixels on spectro-1            \n",
       "FBADPIX2=            0.0281010 / Fraction of bad pixels on spectro-2            \n",
       "WAT0_001= 'system=linear'      /                                                \n",
       "WAT1_001= 'wtype=linear label=Wavelength units=Angstroms' /                     \n",
       "DC-FLAG =                    1 / Log-linear flag                                \n",
       "BUNIT   = '1E-17 erg/cm^2/s/Ang' /                                              \n",
       "PLUG_RA =            134.89146 / RA of object [deg]                             \n",
       "PLUG_DEC=            3.7505332 / dec of object [deg]                            \n",
       "THING_ID=                   -1 / Unique object identifier                       \n",
       "FIBERID =                   72 / Fiber number (1-1000)                          \n",
       "NEXP    =                    8 / Number of individual exposures                 \n",
       "EXPID01 = 'b1-00123355-00123354-00123353'                                       \n",
       "EXPID02 = 'b1-00123356-00123354-00123353'                                       \n",
       "EXPID03 = 'b1-00123357-00123354-00123353'                                       \n",
       "EXPID04 = 'b1-00123358-00123354-00123353'                                       \n",
       "EXPID05 = 'r1-00123355-00123354-00123353'                                       \n",
       "EXPID06 = 'r1-00123356-00123354-00123353'                                       \n",
       "EXPID07 = 'r1-00123357-00123354-00123353'                                       \n",
       "EXPID08 = 'r1-00123358-00123354-00123353'                                       "
      ]
     },
     "execution_count": 88,
     "metadata": {},
     "output_type": "execute_result"
    }
   ],
   "source": [
    "spec[0].header"
   ]
  },
  {
   "cell_type": "markdown",
   "metadata": {},
   "source": [
    "## Looking at the next object, we find that it contains spectral information such as flux and wavelength."
   ]
  },
  {
   "cell_type": "code",
   "execution_count": 89,
   "metadata": {
    "ExecuteTime": {
     "end_time": "2019-09-03T15:24:13.697494Z",
     "start_time": "2019-09-03T15:24:13.616076Z"
    }
   },
   "outputs": [
    {
     "data": {
      "text/plain": [
       "XTENSION= 'BINTABLE'           / binary table extension                         \n",
       "BITPIX  =                    8 / array data type                                \n",
       "NAXIS   =                    2 / number of array dimensions                     \n",
       "NAXIS1  =                   32 / length of dimension 1                          \n",
       "NAXIS2  =                 4623 / length of dimension 2                          \n",
       "PCOUNT  =                    0 / number of group parameters                     \n",
       "GCOUNT  =                    1 / number of groups                               \n",
       "TFIELDS =                    8 / number of table fields                         \n",
       "TTYPE1  = 'flux    '                                                            \n",
       "TFORM1  = 'E       '                                                            \n",
       "TTYPE2  = 'loglam  '                                                            \n",
       "TFORM2  = 'E       '                                                            \n",
       "TTYPE3  = 'ivar    '                                                            \n",
       "TFORM3  = 'E       '                                                            \n",
       "TTYPE4  = 'and_mask'                                                            \n",
       "TFORM4  = 'J       '                                                            \n",
       "TTYPE5  = 'or_mask '                                                            \n",
       "TFORM5  = 'J       '                                                            \n",
       "TTYPE6  = 'wdisp   '                                                            \n",
       "TFORM6  = 'E       '                                                            \n",
       "TTYPE7  = 'sky     '                                                            \n",
       "TFORM7  = 'E       '                                                            \n",
       "TTYPE8  = 'model   '                                                            \n",
       "TFORM8  = 'E       '                                                            \n",
       "EXTNAME = 'COADD   '           / extension name                                 \n",
       "COMMENT Coadded spectrum                                                        "
      ]
     },
     "execution_count": 89,
     "metadata": {},
     "output_type": "execute_result"
    }
   ],
   "source": [
    "spec[1].header"
   ]
  },
  {
   "cell_type": "markdown",
   "metadata": {},
   "source": [
    "## We can pull out the flux and wavelength"
   ]
  },
  {
   "cell_type": "code",
   "execution_count": 90,
   "metadata": {
    "ExecuteTime": {
     "end_time": "2019-09-03T15:24:13.791445Z",
     "start_time": "2019-09-03T15:24:13.700051Z"
    }
   },
   "outputs": [],
   "source": [
    "flux = spec[1].data['flux']\n",
    "wav = spec[1].data['loglam']"
   ]
  },
  {
   "cell_type": "markdown",
   "metadata": {},
   "source": [
    "## and plot the spectrum."
   ]
  },
  {
   "cell_type": "code",
   "execution_count": 91,
   "metadata": {
    "ExecuteTime": {
     "end_time": "2019-09-03T15:24:14.113468Z",
     "start_time": "2019-09-03T15:24:13.794426Z"
    }
   },
   "outputs": [
    {
     "data": {
      "text/plain": [
       "Text(0.5,0,'Wavelength')"
      ]
     },
     "execution_count": 91,
     "metadata": {},
     "output_type": "execute_result"
    },
    {
     "data": {
      "image/png": "[encoded data removed]",
      "text/plain": [
       "<matplotlib.figure.Figure at 0x7fd4cef9f9e8>"
      ]
     },
     "metadata": {},
     "output_type": "display_data"
    }
   ],
   "source": [
    "plt.plot(wav, flux)\n",
    "plt.ylabel('Flux')\n",
    "plt.xlabel('Wavelength')"
   ]
  },
  {
   "cell_type": "markdown",
   "metadata": {},
   "source": [
    "## Looking at the data model, we find out that flux is in units (10^-17 ergs/s/cm2/Å) and wavelength is in units log(Å). We can make the spectrum units a little more familiar. Finally, we should account for redshift and put the spectrum into the rest-frame."
   ]
  },
  {
   "cell_type": "code",
   "execution_count": 92,
   "metadata": {
    "ExecuteTime": {
     "end_time": "2019-09-03T15:24:14.324035Z",
     "start_time": "2019-09-03T15:24:14.116603Z"
    }
   },
   "outputs": [
    {
     "name": "stderr",
     "output_type": "stream",
     "text": [
      "/home/ray/anaconda3/envs/paper1/lib/python3.6/site-packages/ipykernel/__main__.py:2: RuntimeWarning: invalid value encountered in log10\n",
      "  from ipykernel import kernelapp as app\n"
     ]
    }
   ],
   "source": [
    "redshift = spec[2].data['Z']\n",
    "flux = np.log10(1e17 * spec[1].data['flux'])\n",
    "wav = 10**spec[1].data['loglam'] / (1 + redshift)"
   ]
  },
  {
   "cell_type": "code",
   "execution_count": 93,
   "metadata": {
    "ExecuteTime": {
     "end_time": "2019-09-03T15:24:14.610017Z",
     "start_time": "2019-09-03T15:24:14.327926Z"
    }
   },
   "outputs": [
    {
     "data": {
      "text/plain": [
       "Text(0.5,0,'Wavelength [Angstrom]')"
      ]
     },
     "execution_count": 93,
     "metadata": {},
     "output_type": "execute_result"
    },
    {
     "data": {
      "image/png": "[encoded data removed]",
      "text/plain": [
       "<matplotlib.figure.Figure at 0x7fd4cf1523c8>"
      ]
     },
     "metadata": {},
     "output_type": "display_data"
    }
   ],
   "source": [
    "plt.plot(wav, flux)\n",
    "plt.ylabel('log(Flux [erg/s/cm^2/Angstrom])')\n",
    "plt.xlabel('Wavelength [Angstrom]')"
   ]
  },
  {
   "cell_type": "markdown",
   "metadata": {
    "ExecuteTime": {
     "end_time": "2019-09-03T15:04:55.116054Z",
     "start_time": "2019-09-03T15:04:55.102662Z"
    }
   },
   "source": [
    "## Turns out we have a spectrum without anything resolvable in it, how about one with something interesting?"
   ]
  },
  {
   "cell_type": "code",
   "execution_count": 94,
   "metadata": {
    "ExecuteTime": {
     "end_time": "2019-09-03T15:24:15.076890Z",
     "start_time": "2019-09-03T15:24:14.612234Z"
    }
   },
   "outputs": [
    {
     "name": "stderr",
     "output_type": "stream",
     "text": [
      "/home/ray/anaconda3/envs/paper1/lib/python3.6/site-packages/ipykernel/__main__.py:4: RuntimeWarning: invalid value encountered in log10\n"
     ]
    },
    {
     "data": {
      "text/plain": [
       "Text(0.5,0,'Wavelength [Angstrom]')"
      ]
     },
     "execution_count": 94,
     "metadata": {},
     "output_type": "execute_result"
    },
    {
     "data": {
      "image/png": "[encoded data removed]",
      "text/plain": [
       "<matplotlib.figure.Figure at 0x7fd4cf131208>"
      ]
     },
     "metadata": {},
     "output_type": "display_data"
    }
   ],
   "source": [
    "spec = fits.open('spec-7595-56957-0776.fits')\n",
    "\n",
    "redshift = spec[2].data['Z']\n",
    "flux = np.log10(1e17 * spec[1].data['flux'])\n",
    "wav = 10**spec[1].data['loglam'] / (1 + redshift)\n",
    "\n",
    "plt.plot(wav, flux)\n",
    "plt.ylabel('log(Flux [erg/s/cm^2/Angstrom])')\n",
    "plt.xlabel('Wavelength [Angstrom]')"
   ]
  }
 ],
 "metadata": {
  "anaconda-cloud": {},
  "hide_input": false,
  "kernelspec": {
   "display_name": "Python [conda env:paper1]",
   "language": "python",
   "name": "conda-env-paper1-py"
  },
  "language_info": {
   "codemirror_mode": {
    "name": "ipython",
    "version": 3
   },
   "file_extension": ".py",
   "mimetype": "text/x-python",
   "name": "python",
   "nbconvert_exporter": "python",
   "pygments_lexer": "ipython3",
   "version": "3.6.5"
  },
  "pycharm": {
   "stem_cell": {
    "cell_type": "raw",
    "metadata": {
     "collapsed": false
    },
    "source": []
   }
  },
  "toc": {
   "base_numbering": 1,
   "nav_menu": {},
   "number_sections": true,
   "sideBar": true,
   "skip_h1_title": false,
   "title_cell": "Table of Contents",
   "title_sidebar": "Contents",
   "toc_cell": false,
   "toc_position": {},
   "toc_section_display": true,
   "toc_window_display": false
  },
  "varInspector": {
   "cols": {
    "lenName": 16,
    "lenType": 16,
    "lenVar": 40
   },
   "kernels_config": {
    "python": {
     "delete_cmd_postfix": "",
     "delete_cmd_prefix": "del ",
     "library": "var_list.py",
     "varRefreshCmd": "print(var_dic_list())"
    },
    "r": {
     "delete_cmd_postfix": ") ",
     "delete_cmd_prefix": "rm(",
     "library": "var_list.r",
     "varRefreshCmd": "cat(var_dic_list()) "
    }
   },
   "types_to_exclude": [
    "module",
    "function",
    "builtin_function_or_method",
    "instance",
    "_Feature"
   ],
   "window_display": false
  }
 },
 "nbformat": 4,
 "nbformat_minor": 1
}
