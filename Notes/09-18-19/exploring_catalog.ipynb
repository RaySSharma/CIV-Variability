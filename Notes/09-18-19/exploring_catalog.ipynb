{
 "cells": [
  {
   "cell_type": "code",
   "execution_count": 9,
   "metadata": {
    "collapsed": true,
    "pycharm": {
     "is_executing": false
    }
   },
   "outputs": [],
   "source": [
    "import astropy.io.fits as fits\n",
    "import numpy as np"
   ]
  },
  {
   "cell_type": "markdown",
   "source": [
    "Open up the quasar catalog using astropy.io.fits, and in particular look at the first HDU data and headers."
   ],
   "metadata": {
    "collapsed": false,
    "pycharm": {
     "name": "#%% md\n",
     "is_executing": false
    }
   }
  },
  {
   "cell_type": "code",
   "execution_count": 32,
   "outputs": [],
   "source": [
    "cat = fits.open('/home/ray/Downloads/DR14Q_v4_4.fits')\n",
    "hdu1 = cat[1]\n",
    "\n",
    "headers = hdu1.header\n",
    "data = hdu1.data"
   ],
   "metadata": {
    "collapsed": false,
    "pycharm": {
     "name": "#%%\n",
     "is_executing": false
    }
   }
  },
  {
   "cell_type": "markdown",
   "source": [
    "Let's look at all the headers in the first HDU."
   ],
   "metadata": {
    "collapsed": false,
    "pycharm": {
     "name": "#%% md\n"
    }
   }
  },
  {
   "cell_type": "code",
   "source": [
    "print(list(headers.values()))"
   ],
   "metadata": {
    "collapsed": false,
    "pycharm": {
     "name": "#%% \n",
     "is_executing": false
    }
   },
   "execution_count": 34,
   "outputs": [
    {
     "name": "stdout",
     "text": [
      "['BINTABLE', 8, 2, 1505, 526356, 0, 1, 105, 'DR14Q_v4_4', 'SDSS_NAME', '18A', '-', 'RA', 'D', 'deg', 'DEC', 'D', 'deg', 'THING_ID', 'J', '-', 'PLATE', 'I', '-', 'MJD', 'J', '-', 'FIBERID', 'I', '-', 'SPECTRO', '4A', '-', 'Z', 'D', '-', 'Z_ERR', 'D', '-', 'SOURCE_Z', '4A', '-', 'Z_VI', 'D', '-', 'Z_PIPE', 'D', '-', 'Z_PIPE_ERR', 'D', '-', 'ZWARNING', 'I', '-', 'Z_PCA', 'D', '-', 'Z_PCA_ER', 'D', '-', 'Z_MGII', 'D', '-', 'BOSS_TARGET1', 'K', '-', 'ANCILLARY_TARGET1', 'K', '-', 'ANCILLARY_TARGET2', 'K', '-', 'EBOSS_TARGET0', 'K', '-', 'EBOSS_TARGET1', 'K', '-', 'EBOSS_TARGET2', 'K', '-', 'N_SPEC_SDSS', 'I', '-', 'N_SPEC_BOSS', 'I', '-', 'N_SPEC', 'I', '-', 'PLATE_DUPLICATE', '51J', '-', 'MJD_DUPLICATE', '51J', '-', 'FIBERID_DUPLICATE', '51J', '-', 'SPECTRO_DUPLICATE', '51A', '-', '(1,51)', 'BI_CIV', 'D', 'km/s', 'ERR_BI_CIV', 'D', 'km/s', 'RUN_NUMBER', 'I', '-', 'RERUN_NUMBER', 'A', '-', 'COL_NUMBER', 'I', '-', 'FIELD_NUMBER', 'I', '-', 'OBJ_ID', 'A', '-', 'PSFFLUX', '5D', 'nanomaggies', 'IVAR_PSFFLUX', '5D', '-', 'PSFMAG', '5D', 'mag', 'ERR_PSFMAG', '5D', 'mag', 'MI', 'D', '-', 'GAL_EXT', '5D', 'mag', 'RASS_COUNTS', 'D', 'counts/s', 'RASS_COUNTS_SNR', 'D', '-', 'SDSS2ROSAT_SEP', 'D', 'arcsec', 'FLUX_0.2_2.0keV', 'D', 'erg/s/cm2', 'FLUX_0.2_2.0keV_ERR', 'D', 'erg/s/cm2', 'FLUX_2.0_12.0keV', 'D', 'erg/s/cm2', 'FLUX_2.0_12.0keV_ERR', 'D', 'erg/s/cm2', 'FLUX_0.2_12.0keV', 'D', 'erg/s/cm2', 'FLUX_0.2_12.0keV_ERR', 'D', 'erg/s/cm2', 'LUM_0.2_12.0keV', 'D', 'erg/s', 'SDSS2XMM_SEP', 'D', 'arcsec', 'GALEX_MATCHED', 'E', '-', 'FUV', 'D', '-', 'FUV_IVAR', 'D', '-', 'NUV', 'D', '-', 'NUV_IVAR', 'D', '-', 'JMAG', 'D', 'Vega', 'ERR_JMAG', 'D', 'Vega', 'JSNR', 'E', '-', 'JRDFLAG', 'I', '-', 'HMAG', 'D', 'Vega', 'ERR_HMAG', 'D', 'Vega', 'HSNR', 'E', '-', 'HRDFLAG', 'I', '-', 'KMAG', 'D', 'Vega', 'ERR_KMAG', 'D', 'Vega', 'KSNR', 'E', '-', 'KRDFLAG', 'I', '-', 'SDSS2MASS_SEP', 'D', 'arcsec', 'W1MAG', 'D', '-', 'ERR_W1MAG', 'D', '-', 'W1SNR', 'D', '-', 'W1CHI2', 'D', '-', 'W2MAG', 'D', '-', 'ERR_W2MAG', 'D', '-', 'W2SNR', 'D', '-', 'W2CHI2', 'D', '-', 'W3MAG', 'D', '-', 'ERR_W3MAG', 'D', '-', 'W3SNR', 'D', '-', 'W3CHI2', 'D', '-', 'W4MAG', 'D', '-', 'ERR_W4MAG', 'D', '-', 'W4SNR', 'D', '-', 'W4CHI2', 'D', '-', 'CC_FLAGS', '4A', '-', 'PH_FLAGS', '4A', '-', 'SDSS2WISE_SEP', 'D', 'arcsec', 'UKIDSS_MATCHED', 'E', '-', 'YFLUX', 'D', 'W/m2/Hz', 'YFLUX_ERR', 'D', 'W/m2/Hz', 'JFLUX', 'D', 'W/m2/Hz', 'JFLUX_ERR', 'D', 'W/m2/Hz', 'HFLUX', 'D', 'W/m2/Hz', 'HFLUX_ERR', 'D', 'W/m2/Hz', 'KFLUX', 'D', 'W/m2/Hz', 'KFLUX_ERR', 'D', 'W/m2/Hz', 'FIRST_MATCHED', 'I', '-', 'FIRST_FLUX', 'D', 'mJy', 'FIRST_SNR', 'D', '-', 'SDSS2FIRST_SEP', 'D', 'arcsec', '2017-12-08T23:27:28', '3.2-1', 'uk.ac.starlink.votable.FitsPlusTableWriter']\n"
     ],
     "output_type": "stream"
    }
   ]
  },
  {
   "cell_type": "markdown",
   "source": [
    "There are lots of headers in the catalog, reference the catalog data model for descriptions of each header. For now, let's pull out all of the redshifts from the catalog.\n"
   ],
   "metadata": {
    "collapsed": false,
    "pycharm": {
     "name": "#%% md\n",
     "is_executing": false
    }
   }
  },
  {
   "cell_type": "code",
   "execution_count": 38,
   "outputs": [
    {
     "name": "stdout",
     "text": [
      "526356\n"
     ],
     "output_type": "stream"
    }
   ],
   "source": [
    "redshift = data['z']\n",
    "print(len(redshift))"
   ],
   "metadata": {
    "collapsed": false,
    "pycharm": {
     "name": "#%%\n",
     "is_executing": false
    }
   }
  },
  {
   "cell_type": "markdown",
   "source": [
    "We have 526356 quasars in the catalog, and 'redshift' is an array of the redshifts for each one. If we want to select a subsample of the catalog based on redshift, we could do:\n"
   ],
   "metadata": {
    "collapsed": false,
    "pycharm": {
     "name": "#%% md\n",
     "is_executing": false
    }
   }
  },
  {
   "cell_type": "code",
   "execution_count": 46,
   "outputs": [
    {
     "name": "stdout",
     "text": [
      "2056\n"
     ],
     "output_type": "stream"
    }
   ],
   "source": [
    "ix = (redshift > 4)&(redshift < 5)\n",
    "cut_data = data[ix]\n",
    "\n",
    "print(len(cut_data))"
   ],
   "metadata": {
    "collapsed": false,
    "pycharm": {
     "name": "#%%\n",
     "is_executing": false
    }
   }
  },
  {
   "cell_type": "markdown",
   "source": [
    "We introduced cuts to the catalog such that quasars must be between redshifts 4 and 5. This reduced the sample down to 2056 quasars. If we want to access other properties of the catalog after the cuts, we should do operations on the new catalog. Printing right ascensions:"
   ],
   "metadata": {
    "collapsed": false
   }
  },
  {
   "cell_type": "code",
   "execution_count": 51,
   "outputs": [
    {
     "name": "stdout",
     "text": [
      "[1.54184378e-01 1.94549918e-01 2.99565151e-01 ... 3.59493964e+02\n 3.59652226e+02 3.59748885e+02]\n"
     ],
     "output_type": "stream"
    }
   ],
   "source": [
    "print(cut_data['RA'])\n"
   ],
   "metadata": {
    "collapsed": false,
    "pycharm": {
     "name": "#%%\n",
     "is_executing": false
    }
   }
  },
  {
   "cell_type": "code",
   "execution_count": null,
   "outputs": [],
   "source": [
    "\n"
   ],
   "metadata": {
    "collapsed": false,
    "pycharm": {
     "name": "#%%\n"
    }
   }
  }
 ],
 "metadata": {
  "language_info": {
   "codemirror_mode": {
    "name": "ipython",
    "version": 2
   },
   "file_extension": ".py",
   "mimetype": "text/x-python",
   "name": "python",
   "nbconvert_exporter": "python",
   "pygments_lexer": "ipython2",
   "version": "2.7.6"
  },
  "kernelspec": {
   "name": "conda-env-paper1-py",
   "language": "python",
   "display_name": "Python [conda env:paper1]"
  },
  "pycharm": {
   "stem_cell": {
    "cell_type": "raw",
    "source": [],
    "metadata": {
     "collapsed": false
    }
   }
  }
 },
 "nbformat": 4,
 "nbformat_minor": 0
}