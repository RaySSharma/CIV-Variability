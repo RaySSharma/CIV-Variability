{
 "cells": [
  {
   "cell_type": "code",
   "execution_count": 1,
   "metadata": {
    "ExecuteTime": {
     "end_time": "2019-10-09T14:16:02.799015Z",
     "start_time": "2019-10-09T14:15:56.073328Z"
    },
    "pycharm": {
     "is_executing": false
    }
   },
   "outputs": [],
   "source": [
    "import astropy.io.fits as fits\n",
    "import numpy as np"
   ]
  },
  {
   "cell_type": "markdown",
   "metadata": {
    "pycharm": {
     "is_executing": false,
     "name": "#%% md\n"
    }
   },
   "source": [
    "Open up the quasar catalog using astropy.io.fits, and in particular look at the first HDU data and headers."
   ]
  },
  {
   "cell_type": "code",
   "execution_count": 2,
   "metadata": {
    "ExecuteTime": {
     "end_time": "2019-10-09T14:16:05.151899Z",
     "start_time": "2019-10-09T14:16:02.817530Z"
    },
    "pycharm": {
     "is_executing": false,
     "name": "#%%\n"
    }
   },
   "outputs": [],
   "source": [
    "cat = fits.open('/home/ray/Downloads/DR14Q_v4_4.fits')\n",
    "hdu1 = cat[1]\n",
    "\n",
    "headers = hdu1.header\n",
    "data = hdu1.data"
   ]
  },
  {
   "cell_type": "markdown",
   "metadata": {
    "pycharm": {
     "name": "#%% md\n"
    }
   },
   "source": [
    "Let's look at all the headers in the first HDU."
   ]
  },
  {
   "cell_type": "code",
   "execution_count": 34,
   "metadata": {
    "pycharm": {
     "is_executing": false,
     "name": "#%% \n"
    }
   },
   "outputs": [
    {
     "name": "stdout",
     "output_type": "stream",
     "text": [
      "['BINTABLE', 8, 2, 1505, 526356, 0, 1, 105, 'DR14Q_v4_4', 'SDSS_NAME', '18A', '-', 'RA', 'D', 'deg', 'DEC', 'D', 'deg', 'THING_ID', 'J', '-', 'PLATE', 'I', '-', 'MJD', 'J', '-', 'FIBERID', 'I', '-', 'SPECTRO', '4A', '-', 'Z', 'D', '-', 'Z_ERR', 'D', '-', 'SOURCE_Z', '4A', '-', 'Z_VI', 'D', '-', 'Z_PIPE', 'D', '-', 'Z_PIPE_ERR', 'D', '-', 'ZWARNING', 'I', '-', 'Z_PCA', 'D', '-', 'Z_PCA_ER', 'D', '-', 'Z_MGII', 'D', '-', 'BOSS_TARGET1', 'K', '-', 'ANCILLARY_TARGET1', 'K', '-', 'ANCILLARY_TARGET2', 'K', '-', 'EBOSS_TARGET0', 'K', '-', 'EBOSS_TARGET1', 'K', '-', 'EBOSS_TARGET2', 'K', '-', 'N_SPEC_SDSS', 'I', '-', 'N_SPEC_BOSS', 'I', '-', 'N_SPEC', 'I', '-', 'PLATE_DUPLICATE', '51J', '-', 'MJD_DUPLICATE', '51J', '-', 'FIBERID_DUPLICATE', '51J', '-', 'SPECTRO_DUPLICATE', '51A', '-', '(1,51)', 'BI_CIV', 'D', 'km/s', 'ERR_BI_CIV', 'D', 'km/s', 'RUN_NUMBER', 'I', '-', 'RERUN_NUMBER', 'A', '-', 'COL_NUMBER', 'I', '-', 'FIELD_NUMBER', 'I', '-', 'OBJ_ID', 'A', '-', 'PSFFLUX', '5D', 'nanomaggies', 'IVAR_PSFFLUX', '5D', '-', 'PSFMAG', '5D', 'mag', 'ERR_PSFMAG', '5D', 'mag', 'MI', 'D', '-', 'GAL_EXT', '5D', 'mag', 'RASS_COUNTS', 'D', 'counts/s', 'RASS_COUNTS_SNR', 'D', '-', 'SDSS2ROSAT_SEP', 'D', 'arcsec', 'FLUX_0.2_2.0keV', 'D', 'erg/s/cm2', 'FLUX_0.2_2.0keV_ERR', 'D', 'erg/s/cm2', 'FLUX_2.0_12.0keV', 'D', 'erg/s/cm2', 'FLUX_2.0_12.0keV_ERR', 'D', 'erg/s/cm2', 'FLUX_0.2_12.0keV', 'D', 'erg/s/cm2', 'FLUX_0.2_12.0keV_ERR', 'D', 'erg/s/cm2', 'LUM_0.2_12.0keV', 'D', 'erg/s', 'SDSS2XMM_SEP', 'D', 'arcsec', 'GALEX_MATCHED', 'E', '-', 'FUV', 'D', '-', 'FUV_IVAR', 'D', '-', 'NUV', 'D', '-', 'NUV_IVAR', 'D', '-', 'JMAG', 'D', 'Vega', 'ERR_JMAG', 'D', 'Vega', 'JSNR', 'E', '-', 'JRDFLAG', 'I', '-', 'HMAG', 'D', 'Vega', 'ERR_HMAG', 'D', 'Vega', 'HSNR', 'E', '-', 'HRDFLAG', 'I', '-', 'KMAG', 'D', 'Vega', 'ERR_KMAG', 'D', 'Vega', 'KSNR', 'E', '-', 'KRDFLAG', 'I', '-', 'SDSS2MASS_SEP', 'D', 'arcsec', 'W1MAG', 'D', '-', 'ERR_W1MAG', 'D', '-', 'W1SNR', 'D', '-', 'W1CHI2', 'D', '-', 'W2MAG', 'D', '-', 'ERR_W2MAG', 'D', '-', 'W2SNR', 'D', '-', 'W2CHI2', 'D', '-', 'W3MAG', 'D', '-', 'ERR_W3MAG', 'D', '-', 'W3SNR', 'D', '-', 'W3CHI2', 'D', '-', 'W4MAG', 'D', '-', 'ERR_W4MAG', 'D', '-', 'W4SNR', 'D', '-', 'W4CHI2', 'D', '-', 'CC_FLAGS', '4A', '-', 'PH_FLAGS', '4A', '-', 'SDSS2WISE_SEP', 'D', 'arcsec', 'UKIDSS_MATCHED', 'E', '-', 'YFLUX', 'D', 'W/m2/Hz', 'YFLUX_ERR', 'D', 'W/m2/Hz', 'JFLUX', 'D', 'W/m2/Hz', 'JFLUX_ERR', 'D', 'W/m2/Hz', 'HFLUX', 'D', 'W/m2/Hz', 'HFLUX_ERR', 'D', 'W/m2/Hz', 'KFLUX', 'D', 'W/m2/Hz', 'KFLUX_ERR', 'D', 'W/m2/Hz', 'FIRST_MATCHED', 'I', '-', 'FIRST_FLUX', 'D', 'mJy', 'FIRST_SNR', 'D', '-', 'SDSS2FIRST_SEP', 'D', 'arcsec', '2017-12-08T23:27:28', '3.2-1', 'uk.ac.starlink.votable.FitsPlusTableWriter']\n"
     ]
    }
   ],
   "source": [
    "print(list(headers.values()))"
   ]
  },
  {
   "cell_type": "markdown",
   "metadata": {
    "pycharm": {
     "is_executing": false,
     "name": "#%% md\n"
    }
   },
   "source": [
    "There are lots of headers in the catalog, reference the catalog data model for descriptions of each header. For now, let's pull out all of the redshifts from the catalog.\n"
   ]
  },
  {
   "cell_type": "code",
   "execution_count": 38,
   "metadata": {
    "pycharm": {
     "is_executing": false,
     "name": "#%%\n"
    }
   },
   "outputs": [
    {
     "name": "stdout",
     "output_type": "stream",
     "text": [
      "526356\n"
     ]
    }
   ],
   "source": [
    "redshift = data['z']\n",
    "print(len(redshift))"
   ]
  },
  {
   "cell_type": "markdown",
   "metadata": {
    "pycharm": {
     "is_executing": false,
     "name": "#%% md\n"
    }
   },
   "source": [
    "We have 526356 quasars in the catalog, and 'redshift' is an array of the redshifts for each one. If we want to select a subsample of the catalog based on redshift, we could do:\n"
   ]
  },
  {
   "cell_type": "code",
   "execution_count": 46,
   "metadata": {
    "pycharm": {
     "is_executing": false,
     "name": "#%%\n"
    }
   },
   "outputs": [
    {
     "name": "stdout",
     "output_type": "stream",
     "text": [
      "2056\n"
     ]
    }
   ],
   "source": [
    "ix = (redshift > 4)&(redshift < 5)\n",
    "cut_data = data[ix]\n",
    "\n",
    "print(len(cut_data))"
   ]
  },
  {
   "cell_type": "markdown",
   "metadata": {},
   "source": [
    "We introduced cuts to the catalog such that quasars must be between redshifts 4 and 5. This reduced the sample down to 2056 quasars. If we want to access other properties of the catalog after the cuts, we should do operations on the new catalog. Printing right ascensions:"
   ]
  },
  {
   "cell_type": "code",
   "execution_count": 51,
   "metadata": {
    "pycharm": {
     "is_executing": false,
     "name": "#%%\n"
    }
   },
   "outputs": [
    {
     "name": "stdout",
     "output_type": "stream",
     "text": [
      "[1.54184378e-01 1.94549918e-01 2.99565151e-01 ... 3.59493964e+02\n",
      " 3.59652226e+02 3.59748885e+02]\n"
     ]
    }
   ],
   "source": [
    "print(cut_data['RA'])\n"
   ]
  },
  {
   "cell_type": "code",
   "execution_count": null,
   "metadata": {},
   "outputs": [],
   "source": [
    "for i, x in enumerate(BAL_Indicator)\n",
    "    condition = i\n",
    "    if x > 0:\n",
    "        failure = x\n",
    "        null_list = np.concatenate([null_list, [failure]])\n",
    "    else:\n",
    "        success = condition\n",
    "        data_list = np.concatenate([data_list, [success]])"
   ]
  }
 ],
 "metadata": {
  "anaconda-cloud": {},
  "hide_input": false,
  "kernelspec": {
   "display_name": "Python [conda env:paper1]",
   "language": "python",
   "name": "conda-env-paper1-py"
  },
  "language_info": {
   "codemirror_mode": {
    "name": "ipython",
    "version": 3
   },
   "file_extension": ".py",
   "mimetype": "text/x-python",
   "name": "python",
   "nbconvert_exporter": "python",
   "pygments_lexer": "ipython3",
   "version": "3.6.5"
  },
  "pycharm": {
   "stem_cell": {
    "cell_type": "raw",
    "metadata": {
     "collapsed": false
    },
    "source": []
   }
  },
  "toc": {
   "base_numbering": 1,
   "nav_menu": {},
   "number_sections": true,
   "sideBar": true,
   "skip_h1_title": false,
   "title_cell": "Table of Contents",
   "title_sidebar": "Contents",
   "toc_cell": false,
   "toc_position": {},
   "toc_section_display": true,
   "toc_window_display": false
  },
  "varInspector": {
   "cols": {
    "lenName": 16,
    "lenType": 16,
    "lenVar": 40
   },
   "kernels_config": {
    "python": {
     "delete_cmd_postfix": "",
     "delete_cmd_prefix": "del ",
     "library": "var_list.py",
     "varRefreshCmd": "print(var_dic_list())"
    },
    "r": {
     "delete_cmd_postfix": ") ",
     "delete_cmd_prefix": "rm(",
     "library": "var_list.r",
     "varRefreshCmd": "cat(var_dic_list()) "
    }
   },
   "types_to_exclude": [
    "module",
    "function",
    "builtin_function_or_method",
    "instance",
    "_Feature"
   ],
   "window_display": false
  }
 },
 "nbformat": 4,
 "nbformat_minor": 1
}
