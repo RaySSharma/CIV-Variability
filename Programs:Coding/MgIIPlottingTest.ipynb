{
 "cells": [
  {
   "cell_type": "code",
   "execution_count": 1,
   "metadata": {},
   "outputs": [],
   "source": [
    "\"\"\"\n",
    "Created on Thu Oct 15 14:10:27 2020\n",
    "\n",
    "@author: RachelCampo\n",
    "\"\"\"\n",
    "\n",
    "import matplotlib.pyplot as plt\n",
    "import pandas as pd\n",
    "import pylab as pyl\n",
    "import numpy as np\n",
    "import scipy.constants as const\n",
    "from mpl_toolkits.axes_grid1.inset_locator import inset_axes"
   ]
  },
  {
   "cell_type": "code",
   "execution_count": 27,
   "metadata": {},
   "outputs": [],
   "source": [
    "data = pd.read_csv('error_list.csv', sep = ',', index_col = False)"
   ]
  },
  {
   "cell_type": "markdown",
   "metadata": {},
   "source": [
    "Let's try recalculating BH mass for the MgII line"
   ]
  },
  {
   "cell_type": "code",
   "execution_count": 57,
   "metadata": {},
   "outputs": [],
   "source": [
    "def mass_bh(lum, fwhm, a = 0.660, b = 0.53):\n",
    "    mbh = 10**(a + b*np.log10(lum/1e44) + 2*np.log10(fwhm))\n",
    "    return mbh"
   ]
  },
  {
   "cell_type": "code",
   "execution_count": 58,
   "metadata": {},
   "outputs": [],
   "source": [
    "data['Black Hole Mass Using MgII (Solar Mass)'] = mass_bh(data['Luminosity Using MgII (erg/s)'], data['Full Width Half Max Using MgII (km/s)'])"
   ]
  },
  {
   "cell_type": "code",
   "execution_count": 59,
   "metadata": {},
   "outputs": [
    {
     "data": {
      "text/plain": [
       "<matplotlib.axes._subplots.AxesSubplot at 0x7f336464e240>"
      ]
     },
     "execution_count": 59,
     "metadata": {},
     "output_type": "execute_result"
    },
    {
     "data": {
      "image/png": "[encoded data removed]",
      "text/plain": [
       "<Figure size 432x288 with 1 Axes>"
      ]
     },
     "metadata": {
      "needs_background": "light"
     },
     "output_type": "display_data"
    }
   ],
   "source": [
    "np.log10(data['Black Hole Mass Using MgII (Solar Mass)']).hist(bins='fd', range=[5,13])"
   ]
  },
  {
   "cell_type": "code",
   "execution_count": 65,
   "metadata": {},
   "outputs": [],
   "source": [
    "bhm_n = data.loc[:, 'Black Hole Mass Using CIV (Solar Mass)'].values\n",
    "C4_L_values = data.loc[:, 'Luminosity Using CIV (ergs/s)'].values\n",
    "bhm_std = data.loc[:, 'Black Hole Mass Using CIV Error'].values\n",
    "C4_L_std = data.loc[:, 'Luminosity Using CIV Error'].values\n",
    "c4_line = data.loc[:, 'Line Shift of CIV (km/s)'].values\n",
    "c4_std = data.loc[:, 'Error of CIV Line Shift'].values\n",
    "c4_fwhm = data.loc[:, 'Full Width Half Max Using CIV (km/s)'].values\n",
    "c4_fwhm_std = data.loc[:, 'Full Width Half Max Using CIV Error'].values\n",
    "\n",
    "bhm_mg = data.loc[:, 'Black Hole Mass Using MgII (Solar Mass)'].values\n",
    "Mg_L_values = data.loc[:, 'Luminosity Using MgII (erg/s)'].values\n",
    "bhm_mg_std = data.loc[:, 'Black Hole Mass Using MgII Error'].values\n",
    "Mg_L_std = data.loc[:, 'Luminosity Using MgII Error'].values\n",
    "mg_line = data.loc[:, 'Line Shift of MgII (km/s)'].values\n",
    "mg_std = data.loc[:, 'Error of MgII Line Shift'].values\n",
    "mg_fwhm = data.loc[:, 'Full Width Half Max Using MgII (km/s)'].values\n",
    "mg_fwhm_std = data.loc[:, 'Full Width Half Max Using MgII Error'].values"
   ]
  },
  {
   "cell_type": "code",
   "execution_count": 66,
   "metadata": {},
   "outputs": [],
   "source": [
    "def A_to_kms(fwhm, m):\n",
    "    return 3 * 10**5 * fwhm / m\n",
    "\n",
    "delta_C4 = A_to_kms(c4_line, 1549)\n",
    "delta_Mg = A_to_kms(mg_line, 2798)\n",
    "\n",
    "c4_line_error = A_to_kms(c4_std, 1549)\n",
    "mg_line_error = A_to_kms(mg_std, 2798)"
   ]
  },
  {
   "cell_type": "code",
   "execution_count": 67,
   "metadata": {},
   "outputs": [
    {
     "name": "stderr",
     "output_type": "stream",
     "text": [
      "/home/ray/anaconda3/envs/astroconda/lib/python3.6/site-packages/ipykernel_launcher.py:8: RuntimeWarning: divide by zero encountered in log10\n",
      "  \n"
     ]
    },
    {
     "data": {
      "text/plain": [
       "Text(0.5, 1.0, 'CIV Line Shift vs. Luminosity')"
      ]
     },
     "execution_count": 67,
     "metadata": {},
     "output_type": "execute_result"
    },
    {
     "data": {
      "image/png": "[encoded data removed]",
      "text/plain": [
       "<Figure size 360x360 with 2 Axes>"
      ]
     },
     "metadata": {
      "needs_background": "light"
     },
     "output_type": "display_data"
    }
   ],
   "source": [
    "f, ax = plt.subplots(1, 1, figsize=(5,5))\n",
    "\n",
    "bins = [20, 20]\n",
    "extent = [[5, 13], [-5,5]]\n",
    "thresh = 1\n",
    "\n",
    "# do all of the plotting\n",
    "xdat = np.log10(bhm_n)\n",
    "ydat = delta_C4\n",
    "\n",
    "hh, locx, locy = np.histogram2d(xdat, ydat, range=extent, bins=bins)\n",
    "posx = np.digitize(xdat, locx)\n",
    "posy = np.digitize(ydat, locy)\n",
    "\n",
    "# finds the bins which contain points. posx = 0 for points outside \"range\"\n",
    "ind = (posx > 0) & (posx <= bins[0]) & (posy > 0) & (posy <= bins[1])\n",
    "# values of histogram with points in the bins.\n",
    "hhsub = hh[posx[ind] - 1, posy[ind] - 1]\n",
    "\n",
    "xdat1 = xdat[ind][hhsub < thresh]  # low density points\n",
    "ydat1 = ydat[ind][hhsub < thresh]\n",
    "hh[hh < thresh] = np.nan  # fill the areas with low density by NaNs\n",
    "\n",
    "im1 = ax.imshow(hh.T, cmap='Blues', extent=np.array(extent).flatten(),\n",
    "    interpolation=None)\n",
    "\n",
    "ax.scatter(xdat1, ydat1, c='#348abd', alpha=0.6, edgecolor='none', s=12)\n",
    "\n",
    "# put an inset colorbar\n",
    "axin1 = inset_axes(ax, width='5%', height='40%', loc='lower right')\n",
    "plt.colorbar(im1, cax=axin1, orientation='vertical', ticks=[2,4,6,8])\n",
    "axin1.yaxis.set_ticks_position('left')\n",
    "ax.set_xlabel('Log Black Hole Mass (Solar Masses)')\n",
    "ax.set_ylabel('Log Line Shift for CIV (km/s)')\n",
    "ax.set_title('CIV Line Shift vs. Luminosity')\n",
    "#plt.savefig('C4LineShift_vs_BlackHole.png')"
   ]
  },
  {
   "cell_type": "code",
   "execution_count": 64,
   "metadata": {},
   "outputs": [
    {
     "name": "stderr",
     "output_type": "stream",
     "text": [
      "/home/ray/anaconda3/envs/astroconda/lib/python3.6/site-packages/ipykernel_launcher.py:8: RuntimeWarning: divide by zero encountered in log10\n",
      "  \n"
     ]
    },
    {
     "data": {
      "text/plain": [
       "Text(0.5, 1.0, 'MgII Line Shift vs. Black Hole Mass')"
      ]
     },
     "execution_count": 64,
     "metadata": {},
     "output_type": "execute_result"
    },
    {
     "data": {
      "image/png": "[encoded data removed]",
      "text/plain": [
       "<Figure size 360x360 with 2 Axes>"
      ]
     },
     "metadata": {
      "needs_background": "light"
     },
     "output_type": "display_data"
    }
   ],
   "source": [
    "f, ax = plt.subplots(1, 1, figsize=(5,5))\n",
    "\n",
    "bins = [20, 20]\n",
    "extent = [[0, 16], [-5, 5]]\n",
    "thresh = 1\n",
    "\n",
    "# do all of the plotting\n",
    "xdat = np.log10(bhm_mg)\n",
    "ydat = delta_Mg\n",
    "\n",
    "hh, locx, locy = np.histogram2d(xdat, ydat, range=extent, bins=bins)\n",
    "posx = np.digitize(xdat, locx)\n",
    "posy = np.digitize(ydat, locy)\n",
    "\n",
    "# finds the bins which contain points. posx = 0 for points outside \"range\"\n",
    "ind = (posx > 0) & (posx <= bins[0]) & (posy > 0) & (posy <= bins[1])\n",
    "# values of histogram with points in the bins.\n",
    "hhsub = hh[posx[ind] - 1, posy[ind] - 1]\n",
    "\n",
    "xdat1 = xdat[ind][hhsub < thresh]  # low density points\n",
    "ydat1 = ydat[ind][hhsub < thresh]\n",
    "hh[hh < thresh] = np.nan  # fill the areas with low density by NaNs\n",
    "\n",
    "im2 = ax.imshow(hh.T, cmap='Reds', extent=np.array(extent).flatten(),\n",
    "    interpolation=None)\n",
    "\n",
    "ax.scatter(xdat1, ydat1, c='red', alpha=0.6, edgecolor='none', s=12)\n",
    "\n",
    "# put an inset colorbar\n",
    "axin2 = inset_axes(ax, width='5%', height='40%', loc='lower right')\n",
    "plt.colorbar(im2, cax=axin2, orientation='vertical', ticks=[10,30,50,70])\n",
    "axin2.yaxis.set_ticks_position('left')\n",
    "ax.set_xlabel('Log Black Hole Mass (Solar Masses)')\n",
    "ax.set_ylabel('Log Line Shift for MgII (km/s)')\n",
    "ax.set_title('MgII Line Shift vs. Black Hole Mass')\n",
    "#plt.savefig('MgIILineShift_vs_BlackHole.png')"
   ]
  }
 ],
 "metadata": {
  "kernelspec": {
   "display_name": "Python 3.6.9 64-bit ('astroconda': conda)",
   "language": "python",
   "name": "python36964bitastrocondaconda89a10289f0f44fa7a93d38b972b3fce4"
  },
  "language_info": {
   "codemirror_mode": {
    "name": "ipython",
    "version": 3
   },
   "file_extension": ".py",
   "mimetype": "text/x-python",
   "name": "python",
   "nbconvert_exporter": "python",
   "pygments_lexer": "ipython3",
   "version": "3.6.10"
  }
 },
 "nbformat": 4,
 "nbformat_minor": 4
}
